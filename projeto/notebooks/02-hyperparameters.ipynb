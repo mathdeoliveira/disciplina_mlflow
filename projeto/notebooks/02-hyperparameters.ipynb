{
 "cells": [
  {
   "cell_type": "markdown",
   "metadata": {},
   "source": [
    "# 0.0. Imports"
   ]
  },
  {
   "cell_type": "code",
   "execution_count": 1,
   "metadata": {},
   "outputs": [],
   "source": [
    "import sys\n",
    "import joblib \n",
    "\n",
    "sys.path.insert(0, '../src/')\n",
    "\n",
    "from sklearn.pipeline import Pipeline\n",
    "from feature_engine.discretisation import EqualFrequencyDiscretiser, EqualWidthDiscretiser\n",
    "from feature_engine.imputation import MeanMedianImputer\n",
    "from feature_engine.wrappers import SklearnTransformerWrapper\n",
    "from sklearn.preprocessing import StandardScaler\n",
    "\n",
    "from data.data_load import DataLoad\n",
    "from data.data_validation import DataValidation\n",
    "from data.data_transformation import DataTransformation\n",
    "from utils.utils import load_config_file\n",
    "from data.data_preprocess import DataPreprocess\n",
    "from train.train import TrainModels\n",
    "from sklearn.linear_model import LogisticRegression\n",
    "from evaluation.classifier_eval import ModelEvaluation"
   ]
  },
  {
   "cell_type": "markdown",
   "metadata": {},
   "source": [
    "# 1.0. Data load"
   ]
  },
  {
   "cell_type": "code",
   "execution_count": 2,
   "metadata": {},
   "outputs": [
    {
     "name": "stdout",
     "output_type": "stream",
     "text": [
      "\u001b[2m2023-12-04 20:09:29\u001b[0m [\u001b[32m\u001b[1minfo     \u001b[0m] \u001b[1mComecando a carga dos dados com o nome: train_dataset_name\u001b[0m\n"
     ]
    }
   ],
   "source": [
    "dl = DataLoad()\n",
    "df = dl.load_data('train_dataset_name')"
   ]
  },
  {
   "cell_type": "markdown",
   "metadata": {},
   "source": [
    "# 2.0. Data validation"
   ]
  },
  {
   "cell_type": "code",
   "execution_count": 3,
   "metadata": {},
   "outputs": [
    {
     "name": "stdout",
     "output_type": "stream",
     "text": [
      "\u001b[2m2023-12-04 20:09:30\u001b[0m [\u001b[32m\u001b[1minfo     \u001b[0m] \u001b[1mValidacao iniciou\u001b[0m\n",
      "\u001b[2m2023-12-04 20:09:30\u001b[0m [\u001b[32m\u001b[1minfo     \u001b[0m] \u001b[1mValidation columns passed...\u001b[0m\n",
      "\u001b[2m2023-12-04 20:09:30\u001b[0m [\u001b[32m\u001b[1minfo     \u001b[0m] \u001b[1mValidacao com sucesso.\u001b[0m\n"
     ]
    }
   ],
   "source": [
    "dv = DataValidation()\n",
    "is_valid = dv.run(df)"
   ]
  },
  {
   "cell_type": "markdown",
   "metadata": {},
   "source": [
    "# 3.0. Data transformation"
   ]
  },
  {
   "cell_type": "code",
   "execution_count": 4,
   "metadata": {},
   "outputs": [],
   "source": [
    "dt = DataTransformation(df)\n",
    "X_train, X_valid, y_train, y_valid = dt.train_test_spliting()"
   ]
  },
  {
   "cell_type": "markdown",
   "metadata": {},
   "source": [
    "# 4.0. Experimentations"
   ]
  },
  {
   "cell_type": "code",
   "execution_count": 5,
   "metadata": {},
   "outputs": [
    {
     "name": "stderr",
     "output_type": "stream",
     "text": [
      "/home/mathdeoliveira/repos/disciplina_mlflow/.env/lib/python3.10/site-packages/pydantic/_internal/_fields.py:149: UserWarning: Field \"model_server_url\" has conflict with protected namespace \"model_\".\n",
      "\n",
      "You may be able to resolve this warning by setting `model_config['protected_namespaces'] = ()`.\n",
      "  warnings.warn(\n",
      "/home/mathdeoliveira/repos/disciplina_mlflow/.env/lib/python3.10/site-packages/pydantic/_internal/_config.py:318: UserWarning: Valid config keys have changed in V2:\n",
      "* 'schema_extra' has been renamed to 'json_schema_extra'\n",
      "  warnings.warn(message, UserWarning)\n"
     ]
    }
   ],
   "source": [
    "import mlflow \n",
    "from mlflow.tracking import MlflowClient"
   ]
  },
  {
   "cell_type": "code",
   "execution_count": 6,
   "metadata": {},
   "outputs": [
    {
     "data": {
      "text/plain": [
       "<Experiment: artifact_location='mlflow-artifacts:/1', creation_time=1701729825978, experiment_id='1', last_update_time=1701729825978, lifecycle_stage='active', name='prob_loan', tags={}>"
      ]
     },
     "execution_count": 6,
     "metadata": {},
     "output_type": "execute_result"
    }
   ],
   "source": [
    "mlflow.set_tracking_uri('http://127.0.0.1:5000')\n",
    "mlflow.set_experiment('prob_loan')"
   ]
  },
  {
   "cell_type": "markdown",
   "metadata": {},
   "source": [
    "## 4.1. Hyperparameters"
   ]
  },
  {
   "cell_type": "code",
   "execution_count": 8,
   "metadata": {},
   "outputs": [],
   "source": [
    "from mlflow.models import MetricThreshold\n",
    "from sklearn.dummy import DummyClassifier\n",
    "from mlflow.models import infer_signature"
   ]
  },
  {
   "cell_type": "code",
   "execution_count": 9,
   "metadata": {},
   "outputs": [],
   "source": [
    "from hyperopt import fmin, tpe, hp, STATUS_OK"
   ]
  },
  {
   "cell_type": "code",
   "execution_count": 12,
   "metadata": {},
   "outputs": [],
   "source": [
    "pipe = Pipeline([('imputer', MeanMedianImputer(variables=load_config_file().get('vars_imputer'))),\n",
    "                 ('discretizer', EqualFrequencyDiscretiser(variables=load_config_file().get('vars_discretizer'))),\n",
    "                 ('scaler', SklearnTransformerWrapper(StandardScaler()))])"
   ]
  },
  {
   "cell_type": "code",
   "execution_count": 14,
   "metadata": {},
   "outputs": [],
   "source": [
    "def objective(params):\n",
    "    with mlflow.start_run(run_name='with_discretizer_hyperopt'):\n",
    "        mlflow.set_tag('model_name', 'lr_hyperopt')\n",
    "        mlflow.log_params(params)\n",
    "        \n",
    "    \n",
    "        preprocessador = DataPreprocess(pipe)\n",
    "        preprocessador.train(X_train)\n",
    "        \n",
    "        X_train_processed = preprocessador.transform(X_train)\n",
    "        X_valid_processed = preprocessador.transform(X_valid)\n",
    "        joblib.dump(preprocessador, '../models/preprocess.joblib')\n",
    "        \n",
    "        ## 1.1. logar um artefato (preprocessador)\n",
    "        mlflow.log_artifact('../models/preprocess.joblib')\n",
    "        \n",
    "        ## 1.2. logar os parametros do preprocessador\n",
    "        mlflow.log_params(params={'imputer': pipe['imputer'],\n",
    "                                'discretizer': pipe['discretizer'],\n",
    "                                'scaler': pipe['scaler']})\n",
    "        \n",
    "        # 2.0. inicia o experimento com cross validatin\n",
    "        model = LogisticRegression(**params)\n",
    "        model_eval = ModelEvaluation(model,\n",
    "                                    X_train_processed,\n",
    "                                    y_train,\n",
    "                                    n_splits=5)\n",
    "        roc_auc_scores = model_eval.cross_val_evaluate()\n",
    "        ## 2.1. logar o resultado da performance\n",
    "        mlflow.log_metric('train_roc_auc', roc_auc_scores.mean())\n",
    "        \n",
    "        # 3.0. treinar o modelo\n",
    "        model.fit(X_train_processed, y_train)\n",
    "        \n",
    "        # 4.0. salvar as metricas de validacao do modelo\n",
    "        y_val_preds = model_eval.model.predict_proba(X_valid_processed)[:, 1]\n",
    "        val_roc_auc = model_eval.evaluate_predictions(y_valid, y_val_preds)\n",
    "        \n",
    "        mlflow.log_metric('valid_roc_auc', val_roc_auc)\n",
    "        \n",
    "        # 5.0. logar o modelo\n",
    "        candidate_model_uri = mlflow.sklearn.log_model(model,\n",
    "                                'lr_model').model_uri\n",
    "        \n",
    "        ########\n",
    "        signature = infer_signature(X_valid_processed, y_valid)\n",
    "        \n",
    "        eval_data = X_valid_processed\n",
    "        eval_data['label'] = y_valid\n",
    "        \n",
    "        thresholds = {\n",
    "            \"accuracy_score\": MetricThreshold(\n",
    "                threshold=0.1, # o score da acuracia precisa ser >0.7\n",
    "                min_absolute_change=0.05,\n",
    "                min_relative_change=0.05, \n",
    "                greater_is_better=True\n",
    "            )\n",
    "        }\n",
    "        \n",
    "        baseline_model = DummyClassifier(strategy='uniform').fit(X_train_processed, y_train)\n",
    "        baseline_model_uri = mlflow.sklearn.log_model(baseline_model,\n",
    "                                                    \"baseline_model\",\n",
    "                                                    signature=signature).model_uri\n",
    "        \n",
    "        # processo responsavel por avaliar o modelo do mlflow\n",
    "        mlflow.evaluate(candidate_model_uri,\n",
    "                        eval_data,\n",
    "                        targets=\"label\",\n",
    "                        model_type=\"classifier\",\n",
    "                        validation_thresholds=thresholds,\n",
    "                        baseline_model=baseline_model_uri)\n",
    "        \n",
    "        \n",
    "        mlflow.end_run()\n",
    "        \n",
    "        return {'loss': -roc_auc_scores.mean(),\n",
    "                'status': STATUS_OK}"
   ]
  },
  {
   "cell_type": "code",
   "execution_count": 11,
   "metadata": {},
   "outputs": [],
   "source": [
    "search_space = {'warm_start' : hp.choice('warm_start', [True, False]),\n",
    "                'fit_intercept' : hp.choice('fit_intercept', [True, False]),\n",
    "                'tol' : hp.uniform('tol', 0.00001, 0.0001),\n",
    "                'C' : hp.uniform('C', 0.05, 3),\n",
    "                'solver' : hp.choice('solver', ['newton-cg', 'lbfgs', 'liblinear']),\n",
    "                'max_iter' : hp.choice('max_iter', range(100,1000)),\n",
    "                'multi_class' : 'auto',\n",
    "                'class_weight' : hp.choice('class_weight', [None, 'balanced'])}"
   ]
  },
  {
   "cell_type": "code",
   "execution_count": 15,
   "metadata": {},
   "outputs": [
    {
     "name": "stdout",
     "output_type": "stream",
     "text": [
      "\u001b[2m2023-12-04 20:16:38\u001b[0m [\u001b[32m\u001b[1minfo     \u001b[0m] \u001b[1mPreprocessamento iniciou...\u001b[0m\n",
      "\u001b[2m2023-12-04 20:16:38\u001b[0m [\u001b[32m\u001b[1minfo     \u001b[0m] \u001b[1mTransformacao dos dados com preprocessador iniciou...\u001b[0m\n",
      "\u001b[2m2023-12-04 20:16:38\u001b[0m [\u001b[32m\u001b[1minfo     \u001b[0m] \u001b[1mTransformacao dos dados com preprocessador iniciou...\u001b[0m\n",
      "\u001b[2m2023-12-04 20:16:38\u001b[0m [\u001b[32m\u001b[1minfo     \u001b[0m] \u001b[1mIniciou a validacao cruzada...\u001b[0m\n",
      "\u001b[2m2023-12-04 20:16:39\u001b[0m [\u001b[32m\u001b[1minfo     \u001b[0m] \u001b[1mIniciou a validacao do modelo\u001b[0m\n",
      "  0%|          | 0/5 [00:01<?, ?trial/s, best loss=?]"
     ]
    },
    {
     "name": "stderr",
     "output_type": "stream",
     "text": [
      "Distutils was imported before Setuptools, but importing Setuptools also replaces the `distutils` module in `sys.modules`. This may lead to undesirable behaviors or errors. To avoid these issues, avoid using distutils directly, ensure that setuptools is installed in the traditional way (e.g. not an editable install), and/or make sure that setuptools is always imported before distutils.\n",
      "\n",
      "Setuptools is replacing distutils.\n",
      "\n",
      "Hint: Inferred schema contains integer column(s). Integer columns in Python cannot represent missing values. If your input data contains missing values at inference time, it will be encoded as floats and will cause a schema enforcement error. The best way to avoid this problem is to infer the model schema based on a realistic data sample (training dataset) that includes missing values. Alternatively, you can declare integer columns as doubles (float64) whenever these columns may have missing values. See `Handling Integers With Missing Values <https://www.mlflow.org/docs/latest/models.html#handling-integers-with-missing-values>`_ for more details.\n",
      "\n",
      "Distutils was imported before Setuptools, but importing Setuptools also replaces the `distutils` module in `sys.modules`. This may lead to undesirable behaviors or errors. To avoid these issues, avoid using distutils directly, ensure that setuptools is installed in the traditional way (e.g. not an editable install), and/or make sure that setuptools is always imported before distutils.\n",
      "\n",
      "Setuptools is replacing distutils.\n",
      "\n",
      "Downloading artifacts:   0%|          | 0/5 [00:00<?, ?it/s]\n",
      "Downloading artifacts:  20%|##        | 1/5 [00:00<00:00, 38.48it/s]\n",
      "Downloading artifacts:  40%|####      | 2/5 [00:00<00:00, 63.23it/s]\n",
      "Downloading artifacts:  60%|######    | 3/5 [00:00<00:00, 81.59it/s]\n",
      "Downloading artifacts:  80%|########  | 4/5 [00:00<00:00, 101.10it/s]\n",
      "Downloading artifacts: 100%|##########| 5/5 [00:00<00:00, 118.48it/s]\n",
      "Downloading artifacts: 100%|##########| 5/5 [00:00<00:00, 112.34it/s]\n",
      "Downloading artifacts:   0%|          | 0/5 [00:00<?, ?it/s]\n",
      "Downloading artifacts:  20%|##        | 1/5 [00:00<00:00, 40.45it/s]\n",
      "Downloading artifacts:  40%|####      | 2/5 [00:00<00:00, 68.72it/s]\n",
      "Downloading artifacts:  60%|######    | 3/5 [00:00<00:00, 91.71it/s]\n",
      "Downloading artifacts:  80%|########  | 4/5 [00:00<00:00, 115.31it/s]\n",
      "Downloading artifacts: 100%|##########| 5/5 [00:00<00:00, 136.73it/s]\n",
      "Downloading artifacts: 100%|##########| 5/5 [00:00<00:00, 131.93it/s]\n",
      "DataFrame.applymap has been deprecated. Use DataFrame.map instead.\n",
      "\n",
      "DataFrame.applymap has been deprecated. Use DataFrame.map instead.\n",
      "\n",
      "DataFrame.applymap has been deprecated. Use DataFrame.map instead.\n",
      "\n",
      "Hint: Inferred schema contains integer column(s). Integer columns in Python cannot represent missing values. If your input data contains missing values at inference time, it will be encoded as floats and will cause a schema enforcement error. The best way to avoid this problem is to infer the model schema based on a realistic data sample (training dataset) that includes missing values. Alternatively, you can declare integer columns as doubles (float64) whenever these columns may have missing values. See `Handling Integers With Missing Values <https://www.mlflow.org/docs/latest/models.html#handling-integers-with-missing-values>`_ for more details.\n",
      "\n",
      "2023/12/04 20:16:42 INFO mlflow.models.evaluation.base: Evaluating the model with the default evaluator.\n",
      "\n",
      "2023/12/04 20:16:42 INFO mlflow.models.evaluation.default_evaluator: Evaluating candidate model:\n",
      "\n",
      "2023/12/04 20:16:42 INFO mlflow.models.evaluation.default_evaluator: Computing model predictions.\n",
      "\n",
      "2023/12/04 20:16:42 INFO mlflow.models.evaluation.default_evaluator: The evaluation dataset is inferred as binary dataset, positive label is 1, negative label is 0.\n",
      "\n",
      "2023/12/04 20:16:43 INFO mlflow.models.evaluation.default_evaluator: Testing metrics on first row...\n",
      "\n",
      "2023/12/04 20:16:44 INFO mlflow.models.evaluation.default_evaluator: Shap explainer LinearExplainer is used.\n",
      "\n",
      "Unable to serialize underlying model using MLflow, will use SHAP serialization\n",
      "\n",
      "2023/12/04 20:16:44 WARNING mlflow.models.evaluation.default_evaluator: Logging explainer failed. Reason: AttributeError(\"'LogisticRegression' object has no attribute 'save'\"). Set logging level to DEBUG to see the full traceback.\n",
      "\n",
      "2023/12/04 20:16:46 INFO mlflow.models.evaluation.default_evaluator: Evaluating baseline model:\n",
      "\n",
      "2023/12/04 20:16:46 INFO mlflow.models.evaluation.default_evaluator: Computing model predictions.\n",
      "\n",
      "2023/12/04 20:16:46 INFO mlflow.models.evaluation.default_evaluator: The evaluation dataset is inferred as binary dataset, positive label is 1, negative label is 0.\n",
      "\n",
      "2023/12/04 20:16:46 INFO mlflow.models.evaluation.default_evaluator: Testing metrics on first row...\n",
      "\n",
      "2023/12/04 20:16:46 INFO mlflow.models.evaluation.base: Validating generated model metrics\n",
      "\n",
      "2023/12/04 20:16:46 INFO mlflow.models.evaluation.base: Model validation passed!\n",
      "\n"
     ]
    },
    {
     "name": "stdout",
     "output_type": "stream",
     "text": [
      "\u001b[2m2023-12-04 20:16:46\u001b[0m [\u001b[32m\u001b[1minfo     \u001b[0m] \u001b[1mPreprocessamento iniciou...\u001b[0m\n",
      "\u001b[2m2023-12-04 20:16:46\u001b[0m [\u001b[32m\u001b[1minfo     \u001b[0m] \u001b[1mTransformacao dos dados com preprocessador iniciou...\u001b[0m\n",
      "\u001b[2m2023-12-04 20:16:46\u001b[0m [\u001b[32m\u001b[1minfo     \u001b[0m] \u001b[1mTransformacao dos dados com preprocessador iniciou...\u001b[0m\n",
      "\u001b[2m2023-12-04 20:16:46\u001b[0m [\u001b[32m\u001b[1minfo     \u001b[0m] \u001b[1mIniciou a validacao cruzada...\u001b[0m\n",
      "\u001b[2m2023-12-04 20:16:49\u001b[0m [\u001b[32m\u001b[1minfo     \u001b[0m] \u001b[1mIniciou a validacao do modelo\u001b[0m\n",
      " 20%|██        | 1/5 [00:11<00:32,  8.08s/trial, best loss: -0.8066863323994398]"
     ]
    },
    {
     "name": "stderr",
     "output_type": "stream",
     "text": [
      "The line search algorithm did not converge\n",
      "\n",
      "Line Search failed\n",
      "\n",
      "Distutils was imported before Setuptools, but importing Setuptools also replaces the `distutils` module in `sys.modules`. This may lead to undesirable behaviors or errors. To avoid these issues, avoid using distutils directly, ensure that setuptools is installed in the traditional way (e.g. not an editable install), and/or make sure that setuptools is always imported before distutils.\n",
      "\n",
      "Setuptools is replacing distutils.\n",
      "\n",
      "Hint: Inferred schema contains integer column(s). Integer columns in Python cannot represent missing values. If your input data contains missing values at inference time, it will be encoded as floats and will cause a schema enforcement error. The best way to avoid this problem is to infer the model schema based on a realistic data sample (training dataset) that includes missing values. Alternatively, you can declare integer columns as doubles (float64) whenever these columns may have missing values. See `Handling Integers With Missing Values <https://www.mlflow.org/docs/latest/models.html#handling-integers-with-missing-values>`_ for more details.\n",
      "\n",
      "Distutils was imported before Setuptools, but importing Setuptools also replaces the `distutils` module in `sys.modules`. This may lead to undesirable behaviors or errors. To avoid these issues, avoid using distutils directly, ensure that setuptools is installed in the traditional way (e.g. not an editable install), and/or make sure that setuptools is always imported before distutils.\n",
      "\n",
      "Setuptools is replacing distutils.\n",
      "\n",
      "Downloading artifacts:   0%|          | 0/5 [00:00<?, ?it/s]\n",
      "Downloading artifacts:  20%|##        | 1/5 [00:00<00:00, 107.38it/s]\n",
      "Downloading artifacts:  40%|####      | 2/5 [00:00<00:00, 73.10it/s] \n",
      "Downloading artifacts:  60%|######    | 3/5 [00:00<00:00, 93.75it/s]\n",
      "Downloading artifacts:  80%|########  | 4/5 [00:00<00:00, 117.36it/s]\n",
      "Downloading artifacts: 100%|##########| 5/5 [00:00<00:00, 138.80it/s]\n",
      "Downloading artifacts: 100%|##########| 5/5 [00:00<00:00, 134.66it/s]\n",
      "Downloading artifacts:   0%|          | 0/5 [00:00<?, ?it/s]\n",
      "Downloading artifacts:  20%|##        | 1/5 [00:00<00:00, 506.31it/s]\n",
      "Downloading artifacts:  40%|####      | 2/5 [00:00<00:00, 106.25it/s]\n",
      "Downloading artifacts:  60%|######    | 3/5 [00:00<00:00, 116.63it/s]\n",
      "Downloading artifacts:  80%|########  | 4/5 [00:00<00:00, 135.29it/s]\n",
      "Downloading artifacts: 100%|##########| 5/5 [00:00<00:00, 148.38it/s]\n",
      "Downloading artifacts: 100%|##########| 5/5 [00:00<00:00, 142.12it/s]\n",
      "DataFrame.applymap has been deprecated. Use DataFrame.map instead.\n",
      "\n",
      "DataFrame.applymap has been deprecated. Use DataFrame.map instead.\n",
      "\n",
      "DataFrame.applymap has been deprecated. Use DataFrame.map instead.\n",
      "\n",
      "Hint: Inferred schema contains integer column(s). Integer columns in Python cannot represent missing values. If your input data contains missing values at inference time, it will be encoded as floats and will cause a schema enforcement error. The best way to avoid this problem is to infer the model schema based on a realistic data sample (training dataset) that includes missing values. Alternatively, you can declare integer columns as doubles (float64) whenever these columns may have missing values. See `Handling Integers With Missing Values <https://www.mlflow.org/docs/latest/models.html#handling-integers-with-missing-values>`_ for more details.\n",
      "\n",
      "2023/12/04 20:16:52 INFO mlflow.models.evaluation.base: Evaluating the model with the default evaluator.\n",
      "\n",
      "2023/12/04 20:16:52 INFO mlflow.models.evaluation.default_evaluator: Evaluating candidate model:\n",
      "\n",
      "2023/12/04 20:16:52 INFO mlflow.models.evaluation.default_evaluator: Computing model predictions.\n",
      "\n",
      "2023/12/04 20:16:52 INFO mlflow.models.evaluation.default_evaluator: The evaluation dataset is inferred as binary dataset, positive label is 1, negative label is 0.\n",
      "\n",
      "2023/12/04 20:16:53 INFO mlflow.models.evaluation.default_evaluator: Testing metrics on first row...\n",
      "\n",
      "2023/12/04 20:16:54 INFO mlflow.models.evaluation.default_evaluator: Shap explainer LinearExplainer is used.\n",
      "\n",
      "Unable to serialize underlying model using MLflow, will use SHAP serialization\n",
      "\n",
      "2023/12/04 20:16:54 WARNING mlflow.models.evaluation.default_evaluator: Logging explainer failed. Reason: AttributeError(\"'LogisticRegression' object has no attribute 'save'\"). Set logging level to DEBUG to see the full traceback.\n",
      "\n",
      "2023/12/04 20:16:56 INFO mlflow.models.evaluation.default_evaluator: Evaluating baseline model:\n",
      "\n",
      "2023/12/04 20:16:56 INFO mlflow.models.evaluation.default_evaluator: Computing model predictions.\n",
      "\n",
      "2023/12/04 20:16:56 INFO mlflow.models.evaluation.default_evaluator: The evaluation dataset is inferred as binary dataset, positive label is 1, negative label is 0.\n",
      "\n",
      "2023/12/04 20:16:56 INFO mlflow.models.evaluation.default_evaluator: Testing metrics on first row...\n",
      "\n",
      "2023/12/04 20:16:56 INFO mlflow.models.evaluation.base: Validating generated model metrics\n",
      "\n",
      "2023/12/04 20:16:56 INFO mlflow.models.evaluation.base: Model validation passed!\n",
      "\n"
     ]
    },
    {
     "name": "stdout",
     "output_type": "stream",
     "text": [
      "\u001b[2m2023-12-04 20:16:56\u001b[0m [\u001b[32m\u001b[1minfo     \u001b[0m] \u001b[1mPreprocessamento iniciou...\u001b[0m\n",
      "\u001b[2m2023-12-04 20:16:56\u001b[0m [\u001b[32m\u001b[1minfo     \u001b[0m] \u001b[1mTransformacao dos dados com preprocessador iniciou...\u001b[0m\n",
      "\u001b[2m2023-12-04 20:16:56\u001b[0m [\u001b[32m\u001b[1minfo     \u001b[0m] \u001b[1mTransformacao dos dados com preprocessador iniciou...\u001b[0m\n",
      "\u001b[2m2023-12-04 20:16:56\u001b[0m [\u001b[32m\u001b[1minfo     \u001b[0m] \u001b[1mIniciou a validacao cruzada...\u001b[0m\n",
      "\u001b[2m2023-12-04 20:16:58\u001b[0m [\u001b[32m\u001b[1minfo     \u001b[0m] \u001b[1mIniciou a validacao do modelo\u001b[0m\n",
      " 40%|████      | 2/5 [00:19<00:27,  9.29s/trial, best loss: -0.8066863323994398]"
     ]
    },
    {
     "name": "stderr",
     "output_type": "stream",
     "text": [
      "Distutils was imported before Setuptools, but importing Setuptools also replaces the `distutils` module in `sys.modules`. This may lead to undesirable behaviors or errors. To avoid these issues, avoid using distutils directly, ensure that setuptools is installed in the traditional way (e.g. not an editable install), and/or make sure that setuptools is always imported before distutils.\n",
      "\n",
      "Setuptools is replacing distutils.\n",
      "\n",
      "Hint: Inferred schema contains integer column(s). Integer columns in Python cannot represent missing values. If your input data contains missing values at inference time, it will be encoded as floats and will cause a schema enforcement error. The best way to avoid this problem is to infer the model schema based on a realistic data sample (training dataset) that includes missing values. Alternatively, you can declare integer columns as doubles (float64) whenever these columns may have missing values. See `Handling Integers With Missing Values <https://www.mlflow.org/docs/latest/models.html#handling-integers-with-missing-values>`_ for more details.\n",
      "\n",
      "Distutils was imported before Setuptools, but importing Setuptools also replaces the `distutils` module in `sys.modules`. This may lead to undesirable behaviors or errors. To avoid these issues, avoid using distutils directly, ensure that setuptools is installed in the traditional way (e.g. not an editable install), and/or make sure that setuptools is always imported before distutils.\n",
      "\n",
      "Setuptools is replacing distutils.\n",
      "\n",
      "Downloading artifacts:   0%|          | 0/5 [00:00<?, ?it/s]\n",
      "Downloading artifacts:  20%|##        | 1/5 [00:00<00:00, 110.80it/s]\n",
      "Downloading artifacts:  40%|####      | 2/5 [00:00<00:00, 76.27it/s] \n",
      "Downloading artifacts:  60%|######    | 3/5 [00:00<00:00, 98.59it/s]\n",
      "Downloading artifacts:  80%|########  | 4/5 [00:00<00:00, 117.94it/s]\n",
      "Downloading artifacts: 100%|##########| 5/5 [00:00<00:00, 135.47it/s]\n",
      "Downloading artifacts: 100%|##########| 5/5 [00:00<00:00, 130.22it/s]\n",
      "Downloading artifacts:   0%|          | 0/5 [00:00<?, ?it/s]\n",
      "Downloading artifacts:  20%|##        | 1/5 [00:00<00:00, 85.81it/s]\n",
      "Downloading artifacts:  40%|####      | 2/5 [00:00<00:00, 114.56it/s]\n",
      "Downloading artifacts:  60%|######    | 3/5 [00:00<00:00, 93.59it/s] \n",
      "Downloading artifacts:  80%|########  | 4/5 [00:00<00:00, 111.36it/s]\n",
      "Downloading artifacts: 100%|##########| 5/5 [00:00<00:00, 127.98it/s]\n",
      "Downloading artifacts: 100%|##########| 5/5 [00:00<00:00, 120.90it/s]\n",
      "DataFrame.applymap has been deprecated. Use DataFrame.map instead.\n",
      "\n",
      "DataFrame.applymap has been deprecated. Use DataFrame.map instead.\n",
      "\n",
      "DataFrame.applymap has been deprecated. Use DataFrame.map instead.\n",
      "\n",
      "Hint: Inferred schema contains integer column(s). Integer columns in Python cannot represent missing values. If your input data contains missing values at inference time, it will be encoded as floats and will cause a schema enforcement error. The best way to avoid this problem is to infer the model schema based on a realistic data sample (training dataset) that includes missing values. Alternatively, you can declare integer columns as doubles (float64) whenever these columns may have missing values. See `Handling Integers With Missing Values <https://www.mlflow.org/docs/latest/models.html#handling-integers-with-missing-values>`_ for more details.\n",
      "\n",
      "2023/12/04 20:17:01 INFO mlflow.models.evaluation.base: Evaluating the model with the default evaluator.\n",
      "\n",
      "2023/12/04 20:17:01 INFO mlflow.models.evaluation.default_evaluator: Evaluating candidate model:\n",
      "\n",
      "2023/12/04 20:17:01 INFO mlflow.models.evaluation.default_evaluator: Computing model predictions.\n",
      "\n",
      "2023/12/04 20:17:01 INFO mlflow.models.evaluation.default_evaluator: The evaluation dataset is inferred as binary dataset, positive label is 1, negative label is 0.\n",
      "\n",
      "2023/12/04 20:17:01 INFO mlflow.models.evaluation.default_evaluator: Testing metrics on first row...\n",
      "\n",
      "2023/12/04 20:17:02 INFO mlflow.models.evaluation.default_evaluator: Shap explainer LinearExplainer is used.\n",
      "\n",
      "Unable to serialize underlying model using MLflow, will use SHAP serialization\n",
      "\n",
      "2023/12/04 20:17:02 WARNING mlflow.models.evaluation.default_evaluator: Logging explainer failed. Reason: AttributeError(\"'LogisticRegression' object has no attribute 'save'\"). Set logging level to DEBUG to see the full traceback.\n",
      "\n",
      "2023/12/04 20:17:04 INFO mlflow.models.evaluation.default_evaluator: Evaluating baseline model:\n",
      "\n",
      "2023/12/04 20:17:04 INFO mlflow.models.evaluation.default_evaluator: Computing model predictions.\n",
      "\n",
      "2023/12/04 20:17:04 INFO mlflow.models.evaluation.default_evaluator: The evaluation dataset is inferred as binary dataset, positive label is 1, negative label is 0.\n",
      "\n",
      "2023/12/04 20:17:04 INFO mlflow.models.evaluation.default_evaluator: Testing metrics on first row...\n",
      "\n",
      "2023/12/04 20:17:04 INFO mlflow.models.evaluation.base: Validating generated model metrics\n",
      "\n",
      "2023/12/04 20:17:04 INFO mlflow.models.evaluation.base: Model validation passed!\n",
      "\n"
     ]
    },
    {
     "name": "stdout",
     "output_type": "stream",
     "text": [
      "\u001b[2m2023-12-04 20:17:04\u001b[0m [\u001b[32m\u001b[1minfo     \u001b[0m] \u001b[1mPreprocessamento iniciou...\u001b[0m\n",
      "\u001b[2m2023-12-04 20:17:05\u001b[0m [\u001b[32m\u001b[1minfo     \u001b[0m] \u001b[1mTransformacao dos dados com preprocessador iniciou...\u001b[0m\n",
      "\u001b[2m2023-12-04 20:17:05\u001b[0m [\u001b[32m\u001b[1minfo     \u001b[0m] \u001b[1mTransformacao dos dados com preprocessador iniciou...\u001b[0m\n",
      "\u001b[2m2023-12-04 20:17:05\u001b[0m [\u001b[32m\u001b[1minfo     \u001b[0m] \u001b[1mIniciou a validacao cruzada...\u001b[0m\n",
      "\u001b[2m2023-12-04 20:17:05\u001b[0m [\u001b[32m\u001b[1minfo     \u001b[0m] \u001b[1mIniciou a validacao do modelo\u001b[0m\n",
      " 60%|██████    | 3/5 [00:27<00:17,  8.77s/trial, best loss: -0.8066863323994398]"
     ]
    },
    {
     "name": "stderr",
     "output_type": "stream",
     "text": [
      "Distutils was imported before Setuptools, but importing Setuptools also replaces the `distutils` module in `sys.modules`. This may lead to undesirable behaviors or errors. To avoid these issues, avoid using distutils directly, ensure that setuptools is installed in the traditional way (e.g. not an editable install), and/or make sure that setuptools is always imported before distutils.\n",
      "\n",
      "Setuptools is replacing distutils.\n",
      "\n",
      "Hint: Inferred schema contains integer column(s). Integer columns in Python cannot represent missing values. If your input data contains missing values at inference time, it will be encoded as floats and will cause a schema enforcement error. The best way to avoid this problem is to infer the model schema based on a realistic data sample (training dataset) that includes missing values. Alternatively, you can declare integer columns as doubles (float64) whenever these columns may have missing values. See `Handling Integers With Missing Values <https://www.mlflow.org/docs/latest/models.html#handling-integers-with-missing-values>`_ for more details.\n",
      "\n",
      "Distutils was imported before Setuptools, but importing Setuptools also replaces the `distutils` module in `sys.modules`. This may lead to undesirable behaviors or errors. To avoid these issues, avoid using distutils directly, ensure that setuptools is installed in the traditional way (e.g. not an editable install), and/or make sure that setuptools is always imported before distutils.\n",
      "\n",
      "Setuptools is replacing distutils.\n",
      "\n",
      "Downloading artifacts:   0%|          | 0/5 [00:00<?, ?it/s]\n",
      "Downloading artifacts:  20%|##        | 1/5 [00:00<00:00, 70.10it/s]\n",
      "Downloading artifacts:  40%|####      | 2/5 [00:00<00:00, 83.61it/s]\n",
      "Downloading artifacts:  60%|######    | 3/5 [00:00<00:00, 105.37it/s]\n",
      "Downloading artifacts:  80%|########  | 4/5 [00:00<00:00, 127.06it/s]\n",
      "Downloading artifacts: 100%|##########| 5/5 [00:00<00:00, 148.44it/s]\n",
      "Downloading artifacts: 100%|##########| 5/5 [00:00<00:00, 139.61it/s]\n",
      "Downloading artifacts:   0%|          | 0/5 [00:00<?, ?it/s]\n",
      "Downloading artifacts:  20%|##        | 1/5 [00:00<00:00, 41.57it/s]\n",
      "Downloading artifacts:  40%|####      | 2/5 [00:00<00:00, 69.07it/s]\n",
      "Downloading artifacts:  60%|######    | 3/5 [00:00<00:00, 93.33it/s]\n",
      "Downloading artifacts:  80%|########  | 4/5 [00:00<00:00, 116.50it/s]\n",
      "Downloading artifacts: 100%|##########| 5/5 [00:00<00:00, 137.62it/s]\n",
      "Downloading artifacts: 100%|##########| 5/5 [00:00<00:00, 133.31it/s]\n",
      "DataFrame.applymap has been deprecated. Use DataFrame.map instead.\n",
      "\n",
      "DataFrame.applymap has been deprecated. Use DataFrame.map instead.\n",
      "\n",
      "DataFrame.applymap has been deprecated. Use DataFrame.map instead.\n",
      "\n",
      "Hint: Inferred schema contains integer column(s). Integer columns in Python cannot represent missing values. If your input data contains missing values at inference time, it will be encoded as floats and will cause a schema enforcement error. The best way to avoid this problem is to infer the model schema based on a realistic data sample (training dataset) that includes missing values. Alternatively, you can declare integer columns as doubles (float64) whenever these columns may have missing values. See `Handling Integers With Missing Values <https://www.mlflow.org/docs/latest/models.html#handling-integers-with-missing-values>`_ for more details.\n",
      "\n",
      "2023/12/04 20:17:09 INFO mlflow.models.evaluation.base: Evaluating the model with the default evaluator.\n",
      "\n",
      "2023/12/04 20:17:09 INFO mlflow.models.evaluation.default_evaluator: Evaluating candidate model:\n",
      "\n",
      "2023/12/04 20:17:09 INFO mlflow.models.evaluation.default_evaluator: Computing model predictions.\n",
      "\n",
      "2023/12/04 20:17:09 INFO mlflow.models.evaluation.default_evaluator: The evaluation dataset is inferred as binary dataset, positive label is 1, negative label is 0.\n",
      "\n",
      "2023/12/04 20:17:09 INFO mlflow.models.evaluation.default_evaluator: Testing metrics on first row...\n",
      "\n",
      "2023/12/04 20:17:10 INFO mlflow.models.evaluation.default_evaluator: Shap explainer LinearExplainer is used.\n",
      "\n",
      "Unable to serialize underlying model using MLflow, will use SHAP serialization\n",
      "\n",
      "2023/12/04 20:17:10 WARNING mlflow.models.evaluation.default_evaluator: Logging explainer failed. Reason: AttributeError(\"'LogisticRegression' object has no attribute 'save'\"). Set logging level to DEBUG to see the full traceback.\n",
      "\n",
      "2023/12/04 20:17:12 INFO mlflow.models.evaluation.default_evaluator: Evaluating baseline model:\n",
      "\n",
      "2023/12/04 20:17:12 INFO mlflow.models.evaluation.default_evaluator: Computing model predictions.\n",
      "\n",
      "2023/12/04 20:17:12 INFO mlflow.models.evaluation.default_evaluator: The evaluation dataset is inferred as binary dataset, positive label is 1, negative label is 0.\n",
      "\n",
      "2023/12/04 20:17:12 INFO mlflow.models.evaluation.default_evaluator: Testing metrics on first row...\n",
      "\n",
      "2023/12/04 20:17:12 INFO mlflow.models.evaluation.base: Validating generated model metrics\n",
      "\n",
      "2023/12/04 20:17:12 INFO mlflow.models.evaluation.base: Model validation passed!\n",
      "\n"
     ]
    },
    {
     "name": "stdout",
     "output_type": "stream",
     "text": [
      "\u001b[2m2023-12-04 20:17:12\u001b[0m [\u001b[32m\u001b[1minfo     \u001b[0m] \u001b[1mPreprocessamento iniciou...\u001b[0m\n",
      "\u001b[2m2023-12-04 20:17:12\u001b[0m [\u001b[32m\u001b[1minfo     \u001b[0m] \u001b[1mTransformacao dos dados com preprocessador iniciou...\u001b[0m\n",
      "\u001b[2m2023-12-04 20:17:12\u001b[0m [\u001b[32m\u001b[1minfo     \u001b[0m] \u001b[1mTransformacao dos dados com preprocessador iniciou...\u001b[0m\n",
      "\u001b[2m2023-12-04 20:17:13\u001b[0m [\u001b[32m\u001b[1minfo     \u001b[0m] \u001b[1mIniciou a validacao cruzada...\u001b[0m\n",
      "\u001b[2m2023-12-04 20:17:15\u001b[0m [\u001b[32m\u001b[1minfo     \u001b[0m] \u001b[1mIniciou a validacao do modelo\u001b[0m\n",
      " 80%|████████  | 4/5 [00:37<00:08,  8.45s/trial, best loss: -0.8066863323994398]"
     ]
    },
    {
     "name": "stderr",
     "output_type": "stream",
     "text": [
      "Distutils was imported before Setuptools, but importing Setuptools also replaces the `distutils` module in `sys.modules`. This may lead to undesirable behaviors or errors. To avoid these issues, avoid using distutils directly, ensure that setuptools is installed in the traditional way (e.g. not an editable install), and/or make sure that setuptools is always imported before distutils.\n",
      "\n",
      "Setuptools is replacing distutils.\n",
      "\n",
      "Hint: Inferred schema contains integer column(s). Integer columns in Python cannot represent missing values. If your input data contains missing values at inference time, it will be encoded as floats and will cause a schema enforcement error. The best way to avoid this problem is to infer the model schema based on a realistic data sample (training dataset) that includes missing values. Alternatively, you can declare integer columns as doubles (float64) whenever these columns may have missing values. See `Handling Integers With Missing Values <https://www.mlflow.org/docs/latest/models.html#handling-integers-with-missing-values>`_ for more details.\n",
      "\n",
      "Distutils was imported before Setuptools, but importing Setuptools also replaces the `distutils` module in `sys.modules`. This may lead to undesirable behaviors or errors. To avoid these issues, avoid using distutils directly, ensure that setuptools is installed in the traditional way (e.g. not an editable install), and/or make sure that setuptools is always imported before distutils.\n",
      "\n",
      "Setuptools is replacing distutils.\n",
      "\n",
      "Downloading artifacts:   0%|          | 0/5 [00:00<?, ?it/s]\n",
      "Downloading artifacts:  20%|##        | 1/5 [00:00<00:00, 390.49it/s]\n",
      "Downloading artifacts:  40%|####      | 2/5 [00:00<00:00, 87.66it/s] \n",
      "Downloading artifacts:  60%|######    | 3/5 [00:00<00:00, 114.85it/s]\n",
      "Downloading artifacts:  80%|########  | 4/5 [00:00<00:00, 139.55it/s]\n",
      "Downloading artifacts: 100%|##########| 5/5 [00:00<00:00, 163.04it/s]\n",
      "Downloading artifacts: 100%|##########| 5/5 [00:00<00:00, 156.68it/s]\n",
      "Downloading artifacts:   0%|          | 0/5 [00:00<?, ?it/s]\n",
      "Downloading artifacts:  20%|##        | 1/5 [00:00<00:00, 59.77it/s]\n",
      "Downloading artifacts:  40%|####      | 2/5 [00:00<00:00, 88.88it/s]\n",
      "Downloading artifacts:  60%|######    | 3/5 [00:00<00:00, 100.77it/s]\n",
      "Downloading artifacts:  80%|########  | 4/5 [00:00<00:00, 124.54it/s]\n",
      "Downloading artifacts: 100%|##########| 5/5 [00:00<00:00, 134.91it/s]\n",
      "Downloading artifacts: 100%|##########| 5/5 [00:00<00:00, 127.52it/s]\n",
      "DataFrame.applymap has been deprecated. Use DataFrame.map instead.\n",
      "\n",
      "DataFrame.applymap has been deprecated. Use DataFrame.map instead.\n",
      "\n",
      "DataFrame.applymap has been deprecated. Use DataFrame.map instead.\n",
      "\n",
      "Hint: Inferred schema contains integer column(s). Integer columns in Python cannot represent missing values. If your input data contains missing values at inference time, it will be encoded as floats and will cause a schema enforcement error. The best way to avoid this problem is to infer the model schema based on a realistic data sample (training dataset) that includes missing values. Alternatively, you can declare integer columns as doubles (float64) whenever these columns may have missing values. See `Handling Integers With Missing Values <https://www.mlflow.org/docs/latest/models.html#handling-integers-with-missing-values>`_ for more details.\n",
      "\n",
      "2023/12/04 20:17:18 INFO mlflow.models.evaluation.base: Evaluating the model with the default evaluator.\n",
      "\n",
      "2023/12/04 20:17:18 INFO mlflow.models.evaluation.default_evaluator: Evaluating candidate model:\n",
      "\n",
      "2023/12/04 20:17:18 INFO mlflow.models.evaluation.default_evaluator: Computing model predictions.\n",
      "\n",
      "2023/12/04 20:17:18 INFO mlflow.models.evaluation.default_evaluator: The evaluation dataset is inferred as binary dataset, positive label is 1, negative label is 0.\n",
      "\n",
      "2023/12/04 20:17:18 INFO mlflow.models.evaluation.default_evaluator: Testing metrics on first row...\n",
      "\n",
      "2023/12/04 20:17:20 INFO mlflow.models.evaluation.default_evaluator: Shap explainer LinearExplainer is used.\n",
      "\n",
      "Unable to serialize underlying model using MLflow, will use SHAP serialization\n",
      "\n",
      "2023/12/04 20:17:20 WARNING mlflow.models.evaluation.default_evaluator: Logging explainer failed. Reason: AttributeError(\"'LogisticRegression' object has no attribute 'save'\"). Set logging level to DEBUG to see the full traceback.\n",
      "\n",
      "2023/12/04 20:17:21 INFO mlflow.models.evaluation.default_evaluator: Evaluating baseline model:\n",
      "\n",
      "2023/12/04 20:17:21 INFO mlflow.models.evaluation.default_evaluator: Computing model predictions.\n",
      "\n",
      "2023/12/04 20:17:21 INFO mlflow.models.evaluation.default_evaluator: The evaluation dataset is inferred as binary dataset, positive label is 1, negative label is 0.\n",
      "\n",
      "2023/12/04 20:17:22 INFO mlflow.models.evaluation.default_evaluator: Testing metrics on first row...\n",
      "\n",
      "2023/12/04 20:17:22 INFO mlflow.models.evaluation.base: Validating generated model metrics\n",
      "\n",
      "2023/12/04 20:17:22 INFO mlflow.models.evaluation.base: Model validation passed!\n",
      "\n"
     ]
    },
    {
     "name": "stdout",
     "output_type": "stream",
     "text": [
      "100%|██████████| 5/5 [00:43<00:00,  8.74s/trial, best loss: -0.8066863323994398]\n"
     ]
    }
   ],
   "source": [
    "best_result = fmin(fn=objective,\n",
    "                   space=search_space,\n",
    "                   algo=tpe.suggest,\n",
    "                   max_evals=5)"
   ]
  },
  {
   "cell_type": "code",
   "execution_count": null,
   "metadata": {},
   "outputs": [],
   "source": []
  }
 ],
 "metadata": {
  "kernelspec": {
   "display_name": ".env",
   "language": "python",
   "name": "python3"
  },
  "language_info": {
   "codemirror_mode": {
    "name": "ipython",
    "version": 3
   },
   "file_extension": ".py",
   "mimetype": "text/x-python",
   "name": "python",
   "nbconvert_exporter": "python",
   "pygments_lexer": "ipython3",
   "version": "3.10.12"
  }
 },
 "nbformat": 4,
 "nbformat_minor": 2
}
