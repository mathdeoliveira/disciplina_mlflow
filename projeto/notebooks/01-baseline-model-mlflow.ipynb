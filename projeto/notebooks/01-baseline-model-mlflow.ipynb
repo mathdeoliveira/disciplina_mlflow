{
 "cells": [
  {
   "cell_type": "markdown",
   "metadata": {},
   "source": [
    "# 0.0. Imports"
   ]
  },
  {
   "cell_type": "code",
   "execution_count": 7,
   "metadata": {},
   "outputs": [],
   "source": [
    "import sys\n",
    "import joblib \n",
    "\n",
    "sys.path.insert(0, '../src/')\n",
    "\n",
    "from sklearn.pipeline import Pipeline\n",
    "from feature_engine.discretisation import EqualFrequencyDiscretiser, EqualWidthDiscretiser\n",
    "from feature_engine.imputation import MeanMedianImputer\n",
    "from feature_engine.wrappers import SklearnTransformerWrapper\n",
    "from sklearn.preprocessing import StandardScaler\n",
    "\n",
    "from data.data_load import DataLoad\n",
    "from data.data_validation import DataValidation\n",
    "from data.data_transformation import DataTransformation\n",
    "from utils.utils import load_config_file\n",
    "from data.data_preprocess import DataPreprocess\n",
    "from train.train import TrainModels\n",
    "from sklearn.linear_model import LogisticRegression\n",
    "from evaluation.classifier_eval import ModelEvaluation"
   ]
  },
  {
   "cell_type": "markdown",
   "metadata": {},
   "source": [
    "# 1.0. Data load"
   ]
  },
  {
   "cell_type": "code",
   "execution_count": 2,
   "metadata": {},
   "outputs": [
    {
     "name": "stdout",
     "output_type": "stream",
     "text": [
      "\u001b[2m2023-12-04 19:41:10\u001b[0m [\u001b[32m\u001b[1minfo     \u001b[0m] \u001b[1mComecando a carga dos dados com o nome: train_dataset_name\u001b[0m\n"
     ]
    }
   ],
   "source": [
    "dl = DataLoad()\n",
    "df = dl.load_data('train_dataset_name')"
   ]
  },
  {
   "cell_type": "markdown",
   "metadata": {},
   "source": [
    "# 2.0. Data validation"
   ]
  },
  {
   "cell_type": "code",
   "execution_count": 3,
   "metadata": {},
   "outputs": [
    {
     "name": "stdout",
     "output_type": "stream",
     "text": [
      "\u001b[2m2023-12-04 19:41:30\u001b[0m [\u001b[32m\u001b[1minfo     \u001b[0m] \u001b[1mValidacao iniciou\u001b[0m\n",
      "\u001b[2m2023-12-04 19:41:30\u001b[0m [\u001b[32m\u001b[1minfo     \u001b[0m] \u001b[1mValidation columns passed...\u001b[0m\n",
      "\u001b[2m2023-12-04 19:41:30\u001b[0m [\u001b[32m\u001b[1minfo     \u001b[0m] \u001b[1mValidacao com sucesso.\u001b[0m\n"
     ]
    }
   ],
   "source": [
    "dv = DataValidation()\n",
    "is_valid = dv.run(df)"
   ]
  },
  {
   "cell_type": "markdown",
   "metadata": {},
   "source": [
    "# 3.0. Data transformation"
   ]
  },
  {
   "cell_type": "code",
   "execution_count": 4,
   "metadata": {},
   "outputs": [],
   "source": [
    "dt = DataTransformation(df)\n",
    "X_train, X_valid, y_train, y_valid = dt.train_test_spliting()"
   ]
  },
  {
   "cell_type": "markdown",
   "metadata": {},
   "source": [
    "# 4.0. Experimentations"
   ]
  },
  {
   "cell_type": "code",
   "execution_count": 5,
   "metadata": {},
   "outputs": [],
   "source": [
    "import mlflow \n",
    "from mlflow.tracking import MlflowClient"
   ]
  },
  {
   "cell_type": "code",
   "execution_count": 6,
   "metadata": {},
   "outputs": [
    {
     "name": "stderr",
     "output_type": "stream",
     "text": [
      "2023/12/04 19:43:45 INFO mlflow.tracking.fluent: Experiment with name 'prob_loan' does not exist. Creating a new experiment.\n"
     ]
    },
    {
     "data": {
      "text/plain": [
       "<Experiment: artifact_location='mlflow-artifacts:/1', creation_time=1701729825978, experiment_id='1', last_update_time=1701729825978, lifecycle_stage='active', name='prob_loan', tags={}>"
      ]
     },
     "execution_count": 6,
     "metadata": {},
     "output_type": "execute_result"
    }
   ],
   "source": [
    "mlflow.set_tracking_uri('http://127.0.0.1:5000')\n",
    "mlflow.set_experiment('prob_loan')"
   ]
  },
  {
   "cell_type": "code",
   "execution_count": 10,
   "metadata": {},
   "outputs": [
    {
     "name": "stdout",
     "output_type": "stream",
     "text": [
      "\u001b[2m2023-12-04 19:53:01\u001b[0m [\u001b[32m\u001b[1minfo     \u001b[0m] \u001b[1mPreprocessamento iniciou...\u001b[0m\n"
     ]
    },
    {
     "name": "stdout",
     "output_type": "stream",
     "text": [
      "\u001b[2m2023-12-04 19:53:01\u001b[0m [\u001b[32m\u001b[1minfo     \u001b[0m] \u001b[1mTransformacao dos dados com preprocessador iniciou...\u001b[0m\n",
      "\u001b[2m2023-12-04 19:53:01\u001b[0m [\u001b[32m\u001b[1minfo     \u001b[0m] \u001b[1mTransformacao dos dados com preprocessador iniciou...\u001b[0m\n",
      "\u001b[2m2023-12-04 19:53:01\u001b[0m [\u001b[32m\u001b[1minfo     \u001b[0m] \u001b[1mIniciou a validacao cruzada...\u001b[0m\n",
      "\u001b[2m2023-12-04 19:53:03\u001b[0m [\u001b[32m\u001b[1minfo     \u001b[0m] \u001b[1mIniciou a validacao do modelo\u001b[0m\n"
     ]
    }
   ],
   "source": [
    "with mlflow.start_run(run_name='baseline'):\n",
    "    mlflow.set_tag('model_name', 'lr_baseline')\n",
    "    \n",
    "    # 1. etapa preprocessar os dados\n",
    "    pipe = Pipeline([('imputer', MeanMedianImputer(variables=load_config_file().get('vars_imputer'))),\n",
    "                 ('scaler', SklearnTransformerWrapper(StandardScaler()))])\n",
    "    preprocessador = DataPreprocess(pipe)\n",
    "    preprocessador.train(X_train)\n",
    "    \n",
    "    X_train_processed = preprocessador.transform(X_train)\n",
    "    X_valid_processed = preprocessador.transform(X_valid)\n",
    "    joblib.dump(preprocessador, '../models/preprocess.joblib')\n",
    "    \n",
    "    ## 1.1. logar um artefato (preprocessador)\n",
    "    mlflow.log_artifact('../models/preprocess.joblib')\n",
    "    \n",
    "    ## 1.2. logar os parametros do preprocessador\n",
    "    mlflow.log_params(params={'imputer': pipe['imputer'],\n",
    "                              'scaler': pipe['scaler']})\n",
    "    \n",
    "    # 2.0. inicia o experimento com cross validatin\n",
    "    model = LogisticRegression()\n",
    "    model_eval = ModelEvaluation(model,\n",
    "                                 X_train_processed,\n",
    "                                 y_train,\n",
    "                                 n_splits=5)\n",
    "    roc_auc_scores = model_eval.cross_val_evaluate()\n",
    "    ## 2.1. logar o resultado da performance\n",
    "    mlflow.log_metric('train_roc_auc', roc_auc_scores.mean())\n",
    "    \n",
    "    # 3.0. treinar o modelo\n",
    "    model.fit(X_train_processed, y_train)\n",
    "    \n",
    "    # 4.0. salvar as metricas de validacao do modelo\n",
    "    y_val_preds = model_eval.model.predict_proba(X_valid_processed)[:, 1]\n",
    "    val_roc_auc = model_eval.evaluate_predictions(y_valid, y_val_preds)\n",
    "    \n",
    "    mlflow.log_metric('valid_roc_auc', val_roc_auc)\n",
    "    \n",
    "    # 5.0. logar o modelo\n",
    "    mlflow.sklearn.log_model(model,\n",
    "                             'lr_model',\n",
    "                             pyfunc_predict_fn='predict_proba')\n",
    "    \n",
    "    mlflow.end_run()"
   ]
  },
  {
   "cell_type": "markdown",
   "metadata": {},
   "source": [
    "## 4.1. Experiment 01"
   ]
  },
  {
   "cell_type": "code",
   "execution_count": 12,
   "metadata": {},
   "outputs": [],
   "source": [
    "from mlflow.models import MetricThreshold\n",
    "from sklearn.dummy import DummyClassifier\n",
    "from mlflow.models import infer_signature"
   ]
  },
  {
   "cell_type": "code",
   "execution_count": 13,
   "metadata": {},
   "outputs": [
    {
     "name": "stdout",
     "output_type": "stream",
     "text": [
      "\u001b[2m2023-12-04 20:04:58\u001b[0m [\u001b[32m\u001b[1minfo     \u001b[0m] \u001b[1mPreprocessamento iniciou...\u001b[0m\n",
      "\u001b[2m2023-12-04 20:04:58\u001b[0m [\u001b[32m\u001b[1minfo     \u001b[0m] \u001b[1mTransformacao dos dados com preprocessador iniciou...\u001b[0m\n",
      "\u001b[2m2023-12-04 20:04:58\u001b[0m [\u001b[32m\u001b[1minfo     \u001b[0m] \u001b[1mTransformacao dos dados com preprocessador iniciou...\u001b[0m\n",
      "\u001b[2m2023-12-04 20:04:59\u001b[0m [\u001b[32m\u001b[1minfo     \u001b[0m] \u001b[1mIniciou a validacao cruzada...\u001b[0m\n",
      "\u001b[2m2023-12-04 20:05:00\u001b[0m [\u001b[32m\u001b[1minfo     \u001b[0m] \u001b[1mIniciou a validacao do modelo\u001b[0m\n"
     ]
    },
    {
     "name": "stderr",
     "output_type": "stream",
     "text": [
      "/home/mathdeoliveira/repos/disciplina_mlflow/.env/lib/python3.10/site-packages/_distutils_hack/__init__.py:18: UserWarning: Distutils was imported before Setuptools, but importing Setuptools also replaces the `distutils` module in `sys.modules`. This may lead to undesirable behaviors or errors. To avoid these issues, avoid using distutils directly, ensure that setuptools is installed in the traditional way (e.g. not an editable install), and/or make sure that setuptools is always imported before distutils.\n",
      "  warnings.warn(\n",
      "/home/mathdeoliveira/repos/disciplina_mlflow/.env/lib/python3.10/site-packages/_distutils_hack/__init__.py:33: UserWarning: Setuptools is replacing distutils.\n",
      "  warnings.warn(\"Setuptools is replacing distutils.\")\n",
      "/home/mathdeoliveira/repos/disciplina_mlflow/.env/lib/python3.10/site-packages/mlflow/models/signature.py:213: UserWarning: Hint: Inferred schema contains integer column(s). Integer columns in Python cannot represent missing values. If your input data contains missing values at inference time, it will be encoded as floats and will cause a schema enforcement error. The best way to avoid this problem is to infer the model schema based on a realistic data sample (training dataset) that includes missing values. Alternatively, you can declare integer columns as doubles (float64) whenever these columns may have missing values. See `Handling Integers With Missing Values <https://www.mlflow.org/docs/latest/models.html#handling-integers-with-missing-values>`_ for more details.\n",
      "  outputs = _infer_schema(model_output) if model_output is not None else None\n",
      "/home/mathdeoliveira/repos/disciplina_mlflow/.env/lib/python3.10/site-packages/_distutils_hack/__init__.py:18: UserWarning: Distutils was imported before Setuptools, but importing Setuptools also replaces the `distutils` module in `sys.modules`. This may lead to undesirable behaviors or errors. To avoid these issues, avoid using distutils directly, ensure that setuptools is installed in the traditional way (e.g. not an editable install), and/or make sure that setuptools is always imported before distutils.\n",
      "  warnings.warn(\n",
      "/home/mathdeoliveira/repos/disciplina_mlflow/.env/lib/python3.10/site-packages/_distutils_hack/__init__.py:33: UserWarning: Setuptools is replacing distutils.\n",
      "  warnings.warn(\"Setuptools is replacing distutils.\")\n",
      "/home/mathdeoliveira/repos/disciplina_mlflow/.env/lib/python3.10/site-packages/tqdm/auto.py:21: TqdmWarning: IProgress not found. Please update jupyter and ipywidgets. See https://ipywidgets.readthedocs.io/en/stable/user_install.html\n",
      "  from .autonotebook import tqdm as notebook_tqdm\n",
      "Downloading artifacts: 100%|██████████| 5/5 [00:00<00:00, 593.37it/s]  \n",
      "Downloading artifacts: 100%|██████████| 5/5 [00:00<00:00, 178.27it/s]\n",
      "/home/mathdeoliveira/repos/disciplina_mlflow/.env/lib/python3.10/site-packages/mlflow/data/digest_utils.py:26: FutureWarning: DataFrame.applymap has been deprecated. Use DataFrame.map instead.\n",
      "  string_columns = trimmed_df.columns[(df.applymap(type) == str).all(0)]\n",
      "/home/mathdeoliveira/repos/disciplina_mlflow/.env/lib/python3.10/site-packages/mlflow/models/evaluation/base.py:414: FutureWarning: DataFrame.applymap has been deprecated. Use DataFrame.map instead.\n",
      "  data = data.applymap(_hash_array_like_element_as_bytes)\n",
      "/home/mathdeoliveira/repos/disciplina_mlflow/.env/lib/python3.10/site-packages/mlflow/models/evaluation/base.py:414: FutureWarning: DataFrame.applymap has been deprecated. Use DataFrame.map instead.\n",
      "  data = data.applymap(_hash_array_like_element_as_bytes)\n",
      "/home/mathdeoliveira/repos/disciplina_mlflow/.env/lib/python3.10/site-packages/mlflow/data/pandas_dataset.py:134: UserWarning: Hint: Inferred schema contains integer column(s). Integer columns in Python cannot represent missing values. If your input data contains missing values at inference time, it will be encoded as floats and will cause a schema enforcement error. The best way to avoid this problem is to infer the model schema based on a realistic data sample (training dataset) that includes missing values. Alternatively, you can declare integer columns as doubles (float64) whenever these columns may have missing values. See `Handling Integers With Missing Values <https://www.mlflow.org/docs/latest/models.html#handling-integers-with-missing-values>`_ for more details.\n",
      "  return _infer_schema(self._df)\n",
      "2023/12/04 20:05:03 INFO mlflow.models.evaluation.base: Evaluating the model with the default evaluator.\n",
      "2023/12/04 20:05:03 INFO mlflow.models.evaluation.default_evaluator: Evaluating candidate model:\n",
      "2023/12/04 20:05:03 INFO mlflow.models.evaluation.default_evaluator: Computing model predictions.\n",
      "2023/12/04 20:05:03 INFO mlflow.models.evaluation.default_evaluator: The evaluation dataset is inferred as binary dataset, positive label is 1, negative label is 0.\n",
      "2023/12/04 20:05:04 INFO mlflow.models.evaluation.default_evaluator: Testing metrics on first row...\n",
      "2023/12/04 20:05:06 INFO mlflow.models.evaluation.default_evaluator: Shap explainer LinearExplainer is used.\n",
      "Unable to serialize underlying model using MLflow, will use SHAP serialization\n",
      "2023/12/04 20:05:06 WARNING mlflow.models.evaluation.default_evaluator: Logging explainer failed. Reason: AttributeError(\"'LogisticRegression' object has no attribute 'save'\"). Set logging level to DEBUG to see the full traceback.\n",
      "2023/12/04 20:05:08 INFO mlflow.models.evaluation.default_evaluator: Evaluating baseline model:\n",
      "2023/12/04 20:05:08 INFO mlflow.models.evaluation.default_evaluator: Computing model predictions.\n",
      "2023/12/04 20:05:08 INFO mlflow.models.evaluation.default_evaluator: The evaluation dataset is inferred as binary dataset, positive label is 1, negative label is 0.\n",
      "2023/12/04 20:05:08 INFO mlflow.models.evaluation.default_evaluator: Testing metrics on first row...\n",
      "2023/12/04 20:05:08 INFO mlflow.models.evaluation.base: Validating generated model metrics\n",
      "2023/12/04 20:05:08 INFO mlflow.models.evaluation.base: Model validation passed!\n",
      "  0%|          | 75/49500 [00:11<2:09:52,  6.34it/s]\n"
     ]
    },
    {
     "ename": "KeyboardInterrupt",
     "evalue": "",
     "output_type": "error",
     "traceback": [
      "\u001b[0;31m---------------------------------------------------------------------------\u001b[0m",
      "\u001b[0;31mKeyboardInterrupt\u001b[0m                         Traceback (most recent call last)",
      "\u001b[1;32m/home/mathdeoliveira/repos/disciplina_mlflow/projeto/notebooks/01-baseline-model-mlflow.ipynb Cell 15\u001b[0m line \u001b[0;36m7\n\u001b[1;32m     <a href='vscode-notebook-cell://wsl%2Bubuntu/home/mathdeoliveira/repos/disciplina_mlflow/projeto/notebooks/01-baseline-model-mlflow.ipynb#X22sdnNjb2RlLXJlbW90ZQ%3D%3D?line=66'>67</a>\u001b[0m mlflow\u001b[39m.\u001b[39mevaluate(candidate_model_uri,\n\u001b[1;32m     <a href='vscode-notebook-cell://wsl%2Bubuntu/home/mathdeoliveira/repos/disciplina_mlflow/projeto/notebooks/01-baseline-model-mlflow.ipynb#X22sdnNjb2RlLXJlbW90ZQ%3D%3D?line=67'>68</a>\u001b[0m                 eval_data,\n\u001b[1;32m     <a href='vscode-notebook-cell://wsl%2Bubuntu/home/mathdeoliveira/repos/disciplina_mlflow/projeto/notebooks/01-baseline-model-mlflow.ipynb#X22sdnNjb2RlLXJlbW90ZQ%3D%3D?line=68'>69</a>\u001b[0m                 targets\u001b[39m=\u001b[39m\u001b[39m\"\u001b[39m\u001b[39mlabel\u001b[39m\u001b[39m\"\u001b[39m,\n\u001b[1;32m     <a href='vscode-notebook-cell://wsl%2Bubuntu/home/mathdeoliveira/repos/disciplina_mlflow/projeto/notebooks/01-baseline-model-mlflow.ipynb#X22sdnNjb2RlLXJlbW90ZQ%3D%3D?line=69'>70</a>\u001b[0m                 model_type\u001b[39m=\u001b[39m\u001b[39m\"\u001b[39m\u001b[39mclassifier\u001b[39m\u001b[39m\"\u001b[39m,\n\u001b[1;32m     <a href='vscode-notebook-cell://wsl%2Bubuntu/home/mathdeoliveira/repos/disciplina_mlflow/projeto/notebooks/01-baseline-model-mlflow.ipynb#X22sdnNjb2RlLXJlbW90ZQ%3D%3D?line=70'>71</a>\u001b[0m                 validation_thresholds\u001b[39m=\u001b[39mthresholds,\n\u001b[1;32m     <a href='vscode-notebook-cell://wsl%2Bubuntu/home/mathdeoliveira/repos/disciplina_mlflow/projeto/notebooks/01-baseline-model-mlflow.ipynb#X22sdnNjb2RlLXJlbW90ZQ%3D%3D?line=71'>72</a>\u001b[0m                 baseline_model\u001b[39m=\u001b[39mbaseline_model_uri)\n\u001b[1;32m     <a href='vscode-notebook-cell://wsl%2Bubuntu/home/mathdeoliveira/repos/disciplina_mlflow/projeto/notebooks/01-baseline-model-mlflow.ipynb#X22sdnNjb2RlLXJlbW90ZQ%3D%3D?line=73'>74</a>\u001b[0m \u001b[39m# explicabilidade do modelo com SHAP\u001b[39;00m\n\u001b[0;32m---> <a href='vscode-notebook-cell://wsl%2Bubuntu/home/mathdeoliveira/repos/disciplina_mlflow/projeto/notebooks/01-baseline-model-mlflow.ipynb#X22sdnNjb2RlLXJlbW90ZQ%3D%3D?line=74'>75</a>\u001b[0m mlflow\u001b[39m.\u001b[39;49mshap\u001b[39m.\u001b[39;49mlog_explanation(model\u001b[39m.\u001b[39;49mpredict,\n\u001b[1;32m     <a href='vscode-notebook-cell://wsl%2Bubuntu/home/mathdeoliveira/repos/disciplina_mlflow/projeto/notebooks/01-baseline-model-mlflow.ipynb#X22sdnNjb2RlLXJlbW90ZQ%3D%3D?line=75'>76</a>\u001b[0m                             X_valid_processed\u001b[39m.\u001b[39;49mdrop(\u001b[39m\"\u001b[39;49m\u001b[39mlabel\u001b[39;49m\u001b[39m\"\u001b[39;49m, axis\u001b[39m=\u001b[39;49m\u001b[39m1\u001b[39;49m))\n\u001b[1;32m     <a href='vscode-notebook-cell://wsl%2Bubuntu/home/mathdeoliveira/repos/disciplina_mlflow/projeto/notebooks/01-baseline-model-mlflow.ipynb#X22sdnNjb2RlLXJlbW90ZQ%3D%3D?line=77'>78</a>\u001b[0m mlflow\u001b[39m.\u001b[39mend_run()\n",
      "File \u001b[0;32m~/repos/disciplina_mlflow/.env/lib/python3.10/site-packages/mlflow/shap/__init__.py:275\u001b[0m, in \u001b[0;36mlog_explanation\u001b[0;34m(predict_function, features, artifact_path)\u001b[0m\n\u001b[1;32m    273\u001b[0m background_data \u001b[39m=\u001b[39m shap\u001b[39m.\u001b[39mkmeans(features, \u001b[39mmin\u001b[39m(_MAXIMUM_BACKGROUND_DATA_SIZE, \u001b[39mlen\u001b[39m(features)))\n\u001b[1;32m    274\u001b[0m explainer \u001b[39m=\u001b[39m shap\u001b[39m.\u001b[39mKernelExplainer(predict_function, background_data)\n\u001b[0;32m--> 275\u001b[0m shap_values \u001b[39m=\u001b[39m explainer\u001b[39m.\u001b[39;49mshap_values(features)\n\u001b[1;32m    277\u001b[0m _log_numpy(explainer\u001b[39m.\u001b[39mexpected_value, _BASE_VALUES_FILE_NAME, artifact_path)\n\u001b[1;32m    278\u001b[0m _log_numpy(shap_values, _SHAP_VALUES_FILE_NAME, artifact_path)\n",
      "File \u001b[0;32m~/repos/disciplina_mlflow/.env/lib/python3.10/site-packages/shap/explainers/_kernel.py:242\u001b[0m, in \u001b[0;36mKernelExplainer.shap_values\u001b[0;34m(self, X, **kwargs)\u001b[0m\n\u001b[1;32m    240\u001b[0m \u001b[39mif\u001b[39;00m \u001b[39mself\u001b[39m\u001b[39m.\u001b[39mkeep_index:\n\u001b[1;32m    241\u001b[0m     data \u001b[39m=\u001b[39m convert_to_instance_with_index(data, column_name, index_value[i:i \u001b[39m+\u001b[39m \u001b[39m1\u001b[39m], index_name)\n\u001b[0;32m--> 242\u001b[0m explanations\u001b[39m.\u001b[39mappend(\u001b[39mself\u001b[39;49m\u001b[39m.\u001b[39;49mexplain(data, \u001b[39m*\u001b[39;49m\u001b[39m*\u001b[39;49mkwargs))\n\u001b[1;32m    243\u001b[0m \u001b[39mif\u001b[39;00m kwargs\u001b[39m.\u001b[39mget(\u001b[39m\"\u001b[39m\u001b[39mgc_collect\u001b[39m\u001b[39m\"\u001b[39m, \u001b[39mFalse\u001b[39;00m):\n\u001b[1;32m    244\u001b[0m     gc\u001b[39m.\u001b[39mcollect()\n",
      "File \u001b[0;32m~/repos/disciplina_mlflow/.env/lib/python3.10/site-packages/shap/explainers/_kernel.py:436\u001b[0m, in \u001b[0;36mKernelExplainer.explain\u001b[0;34m(self, incoming_instance, **kwargs)\u001b[0m\n\u001b[1;32m    433\u001b[0m     \u001b[39mself\u001b[39m\u001b[39m.\u001b[39mkernelWeights[nfixed_samples:] \u001b[39m*\u001b[39m\u001b[39m=\u001b[39m weight_left \u001b[39m/\u001b[39m \u001b[39mself\u001b[39m\u001b[39m.\u001b[39mkernelWeights[nfixed_samples:]\u001b[39m.\u001b[39msum()\n\u001b[1;32m    435\u001b[0m \u001b[39m# execute the model on the synthetic samples we have created\u001b[39;00m\n\u001b[0;32m--> 436\u001b[0m \u001b[39mself\u001b[39;49m\u001b[39m.\u001b[39;49mrun()\n\u001b[1;32m    438\u001b[0m \u001b[39m# solve then expand the feature importance (Shapley value) vector to contain the non-varying features\u001b[39;00m\n\u001b[1;32m    439\u001b[0m phi \u001b[39m=\u001b[39m np\u001b[39m.\u001b[39mzeros((\u001b[39mself\u001b[39m\u001b[39m.\u001b[39mdata\u001b[39m.\u001b[39mgroups_size, \u001b[39mself\u001b[39m\u001b[39m.\u001b[39mD))\n",
      "File \u001b[0;32m~/repos/disciplina_mlflow/.env/lib/python3.10/site-packages/shap/explainers/_kernel.py:584\u001b[0m, in \u001b[0;36mKernelExplainer.run\u001b[0;34m(self)\u001b[0m\n\u001b[1;32m    582\u001b[0m eyVal \u001b[39m=\u001b[39m np\u001b[39m.\u001b[39mzeros(\u001b[39mself\u001b[39m\u001b[39m.\u001b[39mD)\n\u001b[1;32m    583\u001b[0m \u001b[39mfor\u001b[39;00m j \u001b[39min\u001b[39;00m \u001b[39mrange\u001b[39m(\u001b[39m0\u001b[39m, \u001b[39mself\u001b[39m\u001b[39m.\u001b[39mN):\n\u001b[0;32m--> 584\u001b[0m     eyVal \u001b[39m+\u001b[39m\u001b[39m=\u001b[39m \u001b[39mself\u001b[39m\u001b[39m.\u001b[39my[i \u001b[39m*\u001b[39m \u001b[39mself\u001b[39m\u001b[39m.\u001b[39mN \u001b[39m+\u001b[39m j, :] \u001b[39m*\u001b[39m \u001b[39mself\u001b[39m\u001b[39m.\u001b[39mdata\u001b[39m.\u001b[39mweights[j]\n\u001b[1;32m    586\u001b[0m \u001b[39mself\u001b[39m\u001b[39m.\u001b[39mey[i, :] \u001b[39m=\u001b[39m eyVal\n\u001b[1;32m    587\u001b[0m \u001b[39mself\u001b[39m\u001b[39m.\u001b[39mnsamplesRun \u001b[39m+\u001b[39m\u001b[39m=\u001b[39m \u001b[39m1\u001b[39m\n",
      "\u001b[0;31mKeyboardInterrupt\u001b[0m: "
     ]
    }
   ],
   "source": [
    "with mlflow.start_run(run_name='with_discretizer'):\n",
    "    mlflow.set_tag('model_name', 'lr_discretizer')\n",
    "    \n",
    "    # 1. etapa preprocessar os dados\n",
    "    pipe = Pipeline([('imputer', MeanMedianImputer(variables=load_config_file().get('vars_imputer'))),\n",
    "                     ('discretizer', EqualFrequencyDiscretiser(variables=load_config_file().get('vars_discretizer'))),\n",
    "                    ('scaler', SklearnTransformerWrapper(StandardScaler()))])\n",
    "    preprocessador = DataPreprocess(pipe)\n",
    "    preprocessador.train(X_train)\n",
    "    \n",
    "    X_train_processed = preprocessador.transform(X_train)\n",
    "    X_valid_processed = preprocessador.transform(X_valid)\n",
    "    joblib.dump(preprocessador, '../models/preprocess.joblib')\n",
    "    \n",
    "    ## 1.1. logar um artefato (preprocessador)\n",
    "    mlflow.log_artifact('../models/preprocess.joblib')\n",
    "    \n",
    "    ## 1.2. logar os parametros do preprocessador\n",
    "    mlflow.log_params(params={'imputer': pipe['imputer'],\n",
    "                              'discretizer': pipe['discretizer'],\n",
    "                              'scaler': pipe['scaler']})\n",
    "    \n",
    "    # 2.0. inicia o experimento com cross validatin\n",
    "    model = LogisticRegression()\n",
    "    model_eval = ModelEvaluation(model,\n",
    "                                 X_train_processed,\n",
    "                                 y_train,\n",
    "                                 n_splits=5)\n",
    "    roc_auc_scores = model_eval.cross_val_evaluate()\n",
    "    ## 2.1. logar o resultado da performance\n",
    "    mlflow.log_metric('train_roc_auc', roc_auc_scores.mean())\n",
    "    \n",
    "    # 3.0. treinar o modelo\n",
    "    model.fit(X_train_processed, y_train)\n",
    "    \n",
    "    # 4.0. salvar as metricas de validacao do modelo\n",
    "    y_val_preds = model_eval.model.predict_proba(X_valid_processed)[:, 1]\n",
    "    val_roc_auc = model_eval.evaluate_predictions(y_valid, y_val_preds)\n",
    "    \n",
    "    mlflow.log_metric('valid_roc_auc', val_roc_auc)\n",
    "    \n",
    "    # 5.0. logar o modelo\n",
    "    candidate_model_uri = mlflow.sklearn.log_model(model,\n",
    "                             'lr_model').model_uri\n",
    "    \n",
    "    ########\n",
    "    signature = infer_signature(X_valid_processed, y_valid)\n",
    "    \n",
    "    eval_data = X_valid_processed\n",
    "    eval_data['label'] = y_valid\n",
    "    \n",
    "    thresholds = {\n",
    "        \"accuracy_score\": MetricThreshold(\n",
    "            threshold=0.7, # o score da acuracia precisa ser >0.7\n",
    "            min_absolute_change=0.05,\n",
    "            min_relative_change=0.05, \n",
    "            greater_is_better=True\n",
    "        )\n",
    "    }\n",
    "    \n",
    "    baseline_model = DummyClassifier(strategy='uniform').fit(X_train_processed, y_train)\n",
    "    baseline_model_uri = mlflow.sklearn.log_model(baseline_model,\n",
    "                                                  \"baseline_model\",\n",
    "                                                  signature=signature).model_uri\n",
    "    \n",
    "    # processo responsavel por avaliar o modelo do mlflow\n",
    "    mlflow.evaluate(candidate_model_uri,\n",
    "                    eval_data,\n",
    "                    targets=\"label\",\n",
    "                    model_type=\"classifier\",\n",
    "                    validation_thresholds=thresholds,\n",
    "                    baseline_model=baseline_model_uri)\n",
    "    \n",
    "    # explicabilidade do modelo com SHAP\n",
    "    mlflow.shap.log_explanation(model.predict,\n",
    "                                X_valid_processed.drop(\"label\", axis=1))\n",
    "    \n",
    "    mlflow.end_run()"
   ]
  },
  {
   "cell_type": "code",
   "execution_count": null,
   "metadata": {},
   "outputs": [],
   "source": []
  }
 ],
 "metadata": {
  "kernelspec": {
   "display_name": ".env",
   "language": "python",
   "name": "python3"
  },
  "language_info": {
   "codemirror_mode": {
    "name": "ipython",
    "version": 3
   },
   "file_extension": ".py",
   "mimetype": "text/x-python",
   "name": "python",
   "nbconvert_exporter": "python",
   "pygments_lexer": "ipython3",
   "version": "3.10.12"
  }
 },
 "nbformat": 4,
 "nbformat_minor": 2
}
