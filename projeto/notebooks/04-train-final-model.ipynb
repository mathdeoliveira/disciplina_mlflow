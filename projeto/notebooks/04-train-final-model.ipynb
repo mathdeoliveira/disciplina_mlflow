{
 "cells": [
  {
   "cell_type": "markdown",
   "metadata": {},
   "source": [
    "# 0.0. Imports"
   ]
  },
  {
   "cell_type": "code",
   "execution_count": 3,
   "metadata": {},
   "outputs": [],
   "source": [
    "import sys\n",
    "\n",
    "sys.path.insert(0, '../src/')\n",
    "from train.train import TrainModels\n",
    "from data.data_load import DataLoad\n",
    "from data.data_validation import DataValidation\n",
    "from data.data_transformation import DataTransformation\n",
    "from utils.utils import load_config_file\n",
    "from data.data_preprocess import DataPreprocess\n",
    "from train.train import TrainModels\n",
    "from evaluation.classifier_eval import ModelEvaluation"
   ]
  },
  {
   "cell_type": "markdown",
   "metadata": {},
   "source": [
    "# 1.0. Data Load"
   ]
  },
  {
   "cell_type": "code",
   "execution_count": 4,
   "metadata": {},
   "outputs": [
    {
     "name": "stdout",
     "output_type": "stream",
     "text": [
      "\u001b[2m2023-12-04 20:48:30\u001b[0m [\u001b[32m\u001b[1minfo     \u001b[0m] \u001b[1mComecando a carga dos dados com o nome: train_dataset_name\u001b[0m\n"
     ]
    }
   ],
   "source": [
    "dl = DataLoad()\n",
    "df = dl.load_data('train_dataset_name')"
   ]
  },
  {
   "cell_type": "markdown",
   "metadata": {},
   "source": [
    "# 2.0. Data validation"
   ]
  },
  {
   "cell_type": "code",
   "execution_count": 5,
   "metadata": {},
   "outputs": [
    {
     "name": "stdout",
     "output_type": "stream",
     "text": [
      "\u001b[2m2023-12-04 20:48:34\u001b[0m [\u001b[32m\u001b[1minfo     \u001b[0m] \u001b[1mValidacao iniciou\u001b[0m\n",
      "\u001b[2m2023-12-04 20:48:34\u001b[0m [\u001b[32m\u001b[1minfo     \u001b[0m] \u001b[1mValidation columns passed...\u001b[0m\n",
      "\u001b[2m2023-12-04 20:48:34\u001b[0m [\u001b[32m\u001b[1minfo     \u001b[0m] \u001b[1mValidacao com sucesso.\u001b[0m\n"
     ]
    }
   ],
   "source": [
    "dv = DataValidation()\n",
    "is_valid = dv.run(df)"
   ]
  },
  {
   "cell_type": "markdown",
   "metadata": {},
   "source": [
    "# 3.0. Data transformation"
   ]
  },
  {
   "cell_type": "code",
   "execution_count": 6,
   "metadata": {},
   "outputs": [],
   "source": [
    "dt = DataTransformation(df)\n",
    "X_train, X_valid, y_train, y_valid = dt.train_test_spliting()"
   ]
  },
  {
   "cell_type": "markdown",
   "metadata": {},
   "source": [
    "# 4.0. Train models"
   ]
  },
  {
   "cell_type": "code",
   "execution_count": 7,
   "metadata": {},
   "outputs": [],
   "source": [
    "tm = TrainModels(X_train, y_train)"
   ]
  },
  {
   "cell_type": "code",
   "execution_count": 8,
   "metadata": {},
   "outputs": [
    {
     "name": "stdout",
     "output_type": "stream",
     "text": [
      "\u001b[2m2023-12-04 20:49:03\u001b[0m [\u001b[32m\u001b[1minfo     \u001b[0m] \u001b[1mObtendo o melhor modelo do MLFlow\u001b[0m\n",
      "\u001b[2m2023-12-04 20:49:03\u001b[0m [\u001b[32m\u001b[1minfo     \u001b[0m] \u001b[1mIniciando o treinamendo do modelo: modelo.joblib\u001b[0m\n",
      "\u001b[2m2023-12-04 20:49:03\u001b[0m [\u001b[32m\u001b[1minfo     \u001b[0m] \u001b[1mIniciou a validacao do modelo\u001b[0m\n"
     ]
    },
    {
     "name": "stderr",
     "output_type": "stream",
     "text": [
      "/home/mathdeoliveira/repos/disciplina_mlflow/.env/lib/python3.10/site-packages/mlflow/models/signature.py:351: UserWarning: Hint: Inferred schema contains integer column(s). Integer columns in Python cannot represent missing values. If your input data contains missing values at inference time, it will be encoded as floats and will cause a schema enforcement error. The best way to avoid this problem is to infer the model schema based on a realistic data sample (training dataset) that includes missing values. Alternatively, you can declare integer columns as doubles (float64) whenever these columns may have missing values. See `Handling Integers With Missing Values <https://www.mlflow.org/docs/latest/models.html#handling-integers-with-missing-values>`_ for more details.\n",
      "  input_schema = _infer_schema(input_example)\n",
      "/home/mathdeoliveira/repos/disciplina_mlflow/.env/lib/python3.10/site-packages/mlflow/models/signature.py:362: UserWarning: Hint: Inferred schema contains integer column(s). Integer columns in Python cannot represent missing values. If your input data contains missing values at inference time, it will be encoded as floats and will cause a schema enforcement error. The best way to avoid this problem is to infer the model schema based on a realistic data sample (training dataset) that includes missing values. Alternatively, you can declare integer columns as doubles (float64) whenever these columns may have missing values. See `Handling Integers With Missing Values <https://www.mlflow.org/docs/latest/models.html#handling-integers-with-missing-values>`_ for more details.\n",
      "  output_schema = _infer_schema(prediction)\n",
      "Successfully registered model 'modelo.joblib'.\n",
      "2023/12/04 20:49:06 INFO mlflow.store.model_registry.abstract_store: Waiting up to 300 seconds for model version to finish creation. Model name: modelo.joblib, version 1\n",
      "Created version '1' of model 'modelo.joblib'.\n"
     ]
    }
   ],
   "source": [
    "tm.run()"
   ]
  },
  {
   "cell_type": "code",
   "execution_count": null,
   "metadata": {},
   "outputs": [],
   "source": []
  }
 ],
 "metadata": {
  "kernelspec": {
   "display_name": ".env",
   "language": "python",
   "name": "python3"
  },
  "language_info": {
   "codemirror_mode": {
    "name": "ipython",
    "version": 3
   },
   "file_extension": ".py",
   "mimetype": "text/x-python",
   "name": "python",
   "nbconvert_exporter": "python",
   "pygments_lexer": "ipython3",
   "version": "3.10.12"
  }
 },
 "nbformat": 4,
 "nbformat_minor": 2
}
